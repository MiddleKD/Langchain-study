{
 "cells": [
  {
   "cell_type": "code",
   "execution_count": 1,
   "metadata": {},
   "outputs": [],
   "source": [
    "from dotenv import load_dotenv\n",
    "import os\n",
    "\n",
    "load_dotenv()\n",
    "os.environ[\"LANGCHAIN_TRACING_V2\"] = \"true\"\n",
    "os.environ[\"LANGCHAIN_API_KEY\"] = os.getenv(\"LANG_SMITH\")\n",
    "os.environ[\"ANTHROPIC_API_KEY\"] = os.getenv(\"ANTHROPIC_API_KEY\")\n",
    "os.environ[\"OPENAI_API_KEY\"] = os.getenv(\"OPENAI_API_KEY\")\n",
    "os.environ[\"TAVILY_API_KEY\"] = os.getenv(\"TAVILY_API_KEY\")"
   ]
  },
  {
   "cell_type": "code",
   "execution_count": 2,
   "metadata": {},
   "outputs": [],
   "source": [
    "# TAVILY 타빌리 LLM 문서 리트리브 용 검색기\n",
    "\n",
    "from langchain_community.tools.tavily_search import TavilySearchResults"
   ]
  },
  {
   "cell_type": "code",
   "execution_count": 22,
   "metadata": {},
   "outputs": [],
   "source": [
    "# 도구들 불러오기\n",
    "\n",
    "search = TavilySearchResults(max_results=1)\n",
    "search_results = search.invoke(\"what is the weather in SF\")"
   ]
  },
  {
   "cell_type": "code",
   "execution_count": 23,
   "metadata": {},
   "outputs": [],
   "source": [
    "tools = [search]"
   ]
  },
  {
   "cell_type": "code",
   "execution_count": 24,
   "metadata": {},
   "outputs": [],
   "source": [
    "from langchain_anthropic import ChatAnthropic\n",
    "from langchain_openai import ChatOpenAI\n",
    "\n",
    "# model = ChatAnthropic(model=\"claude-3-sonnet-20240229\")\n",
    "model = ChatOpenAI(model=\"gpt-3.5-turbo\")"
   ]
  },
  {
   "cell_type": "code",
   "execution_count": 25,
   "metadata": {},
   "outputs": [
    {
     "data": {
      "text/plain": [
       "'Hello! How can I help you today?'"
      ]
     },
     "execution_count": 25,
     "metadata": {},
     "output_type": "execute_result"
    }
   ],
   "source": [
    "from langchain_core.messages import HumanMessage\n",
    "\n",
    "response = model.invoke([HumanMessage(content=\"hi!\")])\n",
    "response.content"
   ]
  },
  {
   "cell_type": "code",
   "execution_count": 26,
   "metadata": {},
   "outputs": [],
   "source": [
    "# 모델에 도구 바인딩 하는 작업\n",
    "\n",
    "model_with_tools = model.bind_tools(tools)"
   ]
  },
  {
   "cell_type": "code",
   "execution_count": 27,
   "metadata": {},
   "outputs": [
    {
     "name": "stdout",
     "output_type": "stream",
     "text": [
      "ContentString: Hello! How can I assist you today?\n",
      "ToolCalls: []\n"
     ]
    }
   ],
   "source": [
    "# 일반 메시지 tool이 필요가 없음\n",
    "\n",
    "response = model_with_tools.invoke([HumanMessage(content=\"Hi!\")])\n",
    "\n",
    "print(f\"ContentString: {response.content}\")\n",
    "print(f\"ToolCalls: {response.tool_calls}\")"
   ]
  },
  {
   "cell_type": "code",
   "execution_count": 28,
   "metadata": {},
   "outputs": [
    {
     "name": "stdout",
     "output_type": "stream",
     "text": [
      "ContentString: \n",
      "ToolCalls: [{'name': 'tavily_search_results_json', 'args': {'query': 'weather in San Francisco'}, 'id': 'call_CfUYv0GbkHgvLy35spBkcDLM', 'type': 'tool_call'}]\n"
     ]
    }
   ],
   "source": [
    "# tool의 사용이 필요한 메시지로\n",
    "\n",
    "response = model_with_tools.invoke([HumanMessage(content=\"What's the weather in SF?\")])\n",
    "\n",
    "print(f\"ContentString: {response.content}\")\n",
    "print(f\"ToolCalls: {response.tool_calls}\")"
   ]
  },
  {
   "cell_type": "code",
   "execution_count": 65,
   "metadata": {},
   "outputs": [],
   "source": [
    "# langgraph에서 제공하는 agent로 사용\n",
    "\n",
    "from langgraph.prebuilt import create_react_agent\n",
    "\n",
    "# agent_executor = create_react_agent(model, tools, debug=True)\n",
    "agent_executor = create_react_agent(model, tools)"
   ]
  },
  {
   "cell_type": "code",
   "execution_count": 56,
   "metadata": {},
   "outputs": [
    {
     "name": "stdout",
     "output_type": "stream",
     "text": [
      "\u001b[36;1m\u001b[1;3m[0:tasks]\u001b[0m \u001b[1mStarting step 0 with 1 task:\n",
      "\u001b[0m- \u001b[32;1m\u001b[1;3m__start__\u001b[0m -> {'messages': [HumanMessage(content='hi!')]}\n",
      "\u001b[36;1m\u001b[1;3m[0:writes]\u001b[0m \u001b[1mFinished step 0 with writes to 1 channel:\n",
      "\u001b[0m- \u001b[33;1m\u001b[1;3mmessages\u001b[0m -> [HumanMessage(content='hi!')]\n",
      "\u001b[36;1m\u001b[1;3m[1:tasks]\u001b[0m \u001b[1mStarting step 1 with 1 task:\n",
      "\u001b[0m- \u001b[32;1m\u001b[1;3magent\u001b[0m -> {'is_last_step': False,\n",
      " 'messages': [HumanMessage(content='hi!', id='467c46a4-f74b-4637-bc3c-9df99ef8b22d')]}\n",
      "\u001b[36;1m\u001b[1;3m[1:writes]\u001b[0m \u001b[1mFinished step 1 with writes to 1 channel:\n",
      "\u001b[0m- \u001b[33;1m\u001b[1;3mmessages\u001b[0m -> [AIMessage(content='Hello! How can I assist you today?', response_metadata={'token_usage': {'completion_tokens': 10, 'prompt_tokens': 91, 'total_tokens': 101}, 'model_name': 'gpt-3.5-turbo-0125', 'system_fingerprint': None, 'finish_reason': 'stop', 'logprobs': None}, id='run-55baa40c-22d0-4335-a5bf-a0b674d691ef-0', usage_metadata={'input_tokens': 91, 'output_tokens': 10, 'total_tokens': 101})]\n"
     ]
    },
    {
     "data": {
      "text/plain": [
       "[HumanMessage(content='hi!', id='467c46a4-f74b-4637-bc3c-9df99ef8b22d'),\n",
       " AIMessage(content='Hello! How can I assist you today?', response_metadata={'token_usage': {'completion_tokens': 10, 'prompt_tokens': 91, 'total_tokens': 101}, 'model_name': 'gpt-3.5-turbo-0125', 'system_fingerprint': None, 'finish_reason': 'stop', 'logprobs': None}, id='run-55baa40c-22d0-4335-a5bf-a0b674d691ef-0', usage_metadata={'input_tokens': 91, 'output_tokens': 10, 'total_tokens': 101})]"
      ]
     },
     "execution_count": 56,
     "metadata": {},
     "output_type": "execute_result"
    }
   ],
   "source": [
    "# 일반 메시지\n",
    "\n",
    "response = agent_executor.invoke({\"messages\": [HumanMessage(content=\"hi!\")]})\n",
    "\n",
    "response[\"messages\"]"
   ]
  },
  {
   "cell_type": "code",
   "execution_count": 66,
   "metadata": {},
   "outputs": [
    {
     "ename": "GraphRecursionError",
     "evalue": "Recursion limit of 25 reachedwithout hitting a stop condition. You can increase the limit by setting the `recursion_limit` config key.",
     "output_type": "error",
     "traceback": [
      "\u001b[1;31m---------------------------------------------------------------------------\u001b[0m",
      "\u001b[1;31mGraphRecursionError\u001b[0m                       Traceback (most recent call last)",
      "Cell \u001b[1;32mIn[66], line 1\u001b[0m\n\u001b[1;32m----> 1\u001b[0m response \u001b[38;5;241m=\u001b[39m \u001b[43magent_executor\u001b[49m\u001b[38;5;241;43m.\u001b[39;49m\u001b[43minvoke\u001b[49m\u001b[43m(\u001b[49m\n\u001b[0;32m      2\u001b[0m \u001b[43m    \u001b[49m\u001b[43m{\u001b[49m\u001b[38;5;124;43m\"\u001b[39;49m\u001b[38;5;124;43mmessages\u001b[39;49m\u001b[38;5;124;43m\"\u001b[39;49m\u001b[43m:\u001b[49m\u001b[43m \u001b[49m\u001b[43m[\u001b[49m\u001b[43mHumanMessage\u001b[49m\u001b[43m(\u001b[49m\u001b[43mcontent\u001b[49m\u001b[38;5;241;43m=\u001b[39;49m\u001b[38;5;124;43m\"\u001b[39;49m\u001b[38;5;124;43mwhats the president of korea?\u001b[39;49m\u001b[38;5;124;43m\"\u001b[39;49m\u001b[43m)\u001b[49m\u001b[43m]\u001b[49m\u001b[43m}\u001b[49m\n\u001b[0;32m      3\u001b[0m \u001b[43m)\u001b[49m\n\u001b[0;32m      4\u001b[0m response[\u001b[38;5;124m\"\u001b[39m\u001b[38;5;124mmessages\u001b[39m\u001b[38;5;124m\"\u001b[39m]\n",
      "File \u001b[1;32mc:\\Users\\kmidd\\anaconda3\\envs\\langchain\\Lib\\site-packages\\langgraph\\pregel\\__init__.py:1668\u001b[0m, in \u001b[0;36mPregel.invoke\u001b[1;34m(self, input, config, stream_mode, output_keys, input_keys, interrupt_before, interrupt_after, debug, **kwargs)\u001b[0m\n\u001b[0;32m   1666\u001b[0m \u001b[38;5;28;01melse\u001b[39;00m:\n\u001b[0;32m   1667\u001b[0m     chunks \u001b[38;5;241m=\u001b[39m []\n\u001b[1;32m-> 1668\u001b[0m \u001b[43m\u001b[49m\u001b[38;5;28;43;01mfor\u001b[39;49;00m\u001b[43m \u001b[49m\u001b[43mchunk\u001b[49m\u001b[43m \u001b[49m\u001b[38;5;129;43;01min\u001b[39;49;00m\u001b[43m \u001b[49m\u001b[38;5;28;43mself\u001b[39;49m\u001b[38;5;241;43m.\u001b[39;49m\u001b[43mstream\u001b[49m\u001b[43m(\u001b[49m\n\u001b[0;32m   1669\u001b[0m \u001b[43m    \u001b[49m\u001b[38;5;28;43minput\u001b[39;49m\u001b[43m,\u001b[49m\n\u001b[0;32m   1670\u001b[0m \u001b[43m    \u001b[49m\u001b[43mconfig\u001b[49m\u001b[43m,\u001b[49m\n\u001b[0;32m   1671\u001b[0m \u001b[43m    \u001b[49m\u001b[43mstream_mode\u001b[49m\u001b[38;5;241;43m=\u001b[39;49m\u001b[43mstream_mode\u001b[49m\u001b[43m,\u001b[49m\n\u001b[0;32m   1672\u001b[0m \u001b[43m    \u001b[49m\u001b[43moutput_keys\u001b[49m\u001b[38;5;241;43m=\u001b[39;49m\u001b[43moutput_keys\u001b[49m\u001b[43m,\u001b[49m\n\u001b[0;32m   1673\u001b[0m \u001b[43m    \u001b[49m\u001b[43minput_keys\u001b[49m\u001b[38;5;241;43m=\u001b[39;49m\u001b[43minput_keys\u001b[49m\u001b[43m,\u001b[49m\n\u001b[0;32m   1674\u001b[0m \u001b[43m    \u001b[49m\u001b[43minterrupt_before\u001b[49m\u001b[38;5;241;43m=\u001b[39;49m\u001b[43minterrupt_before\u001b[49m\u001b[43m,\u001b[49m\n\u001b[0;32m   1675\u001b[0m \u001b[43m    \u001b[49m\u001b[43minterrupt_after\u001b[49m\u001b[38;5;241;43m=\u001b[39;49m\u001b[43minterrupt_after\u001b[49m\u001b[43m,\u001b[49m\n\u001b[0;32m   1676\u001b[0m \u001b[43m    \u001b[49m\u001b[43mdebug\u001b[49m\u001b[38;5;241;43m=\u001b[39;49m\u001b[43mdebug\u001b[49m\u001b[43m,\u001b[49m\n\u001b[0;32m   1677\u001b[0m \u001b[43m    \u001b[49m\u001b[38;5;241;43m*\u001b[39;49m\u001b[38;5;241;43m*\u001b[39;49m\u001b[43mkwargs\u001b[49m\u001b[43m,\u001b[49m\n\u001b[0;32m   1678\u001b[0m \u001b[43m\u001b[49m\u001b[43m)\u001b[49m\u001b[43m:\u001b[49m\n\u001b[0;32m   1679\u001b[0m \u001b[43m    \u001b[49m\u001b[38;5;28;43;01mif\u001b[39;49;00m\u001b[43m \u001b[49m\u001b[43mstream_mode\u001b[49m\u001b[43m \u001b[49m\u001b[38;5;241;43m==\u001b[39;49m\u001b[43m \u001b[49m\u001b[38;5;124;43m\"\u001b[39;49m\u001b[38;5;124;43mvalues\u001b[39;49m\u001b[38;5;124;43m\"\u001b[39;49m\u001b[43m:\u001b[49m\n\u001b[0;32m   1680\u001b[0m \u001b[43m        \u001b[49m\u001b[43mlatest\u001b[49m\u001b[43m \u001b[49m\u001b[38;5;241;43m=\u001b[39;49m\u001b[43m \u001b[49m\u001b[43mchunk\u001b[49m\n",
      "File \u001b[1;32mc:\\Users\\kmidd\\anaconda3\\envs\\langchain\\Lib\\site-packages\\langgraph\\pregel\\__init__.py:1171\u001b[0m, in \u001b[0;36mPregel.stream\u001b[1;34m(self, input, config, stream_mode, output_keys, input_keys, interrupt_before, interrupt_after, debug)\u001b[0m\n\u001b[0;32m   1169\u001b[0m         \u001b[38;5;28;01mbreak\u001b[39;00m\n\u001b[0;32m   1170\u001b[0m \u001b[38;5;28;01melse\u001b[39;00m:\n\u001b[1;32m-> 1171\u001b[0m     \u001b[38;5;28;01mraise\u001b[39;00m GraphRecursionError(\n\u001b[0;32m   1172\u001b[0m         \u001b[38;5;124mf\u001b[39m\u001b[38;5;124m\"\u001b[39m\u001b[38;5;124mRecursion limit of \u001b[39m\u001b[38;5;132;01m{\u001b[39;00mconfig[\u001b[38;5;124m'\u001b[39m\u001b[38;5;124mrecursion_limit\u001b[39m\u001b[38;5;124m'\u001b[39m]\u001b[38;5;132;01m}\u001b[39;00m\u001b[38;5;124m reached\u001b[39m\u001b[38;5;124m\"\u001b[39m\n\u001b[0;32m   1173\u001b[0m         \u001b[38;5;124m\"\u001b[39m\u001b[38;5;124mwithout hitting a stop condition. You can increase the \u001b[39m\u001b[38;5;124m\"\u001b[39m\n\u001b[0;32m   1174\u001b[0m         \u001b[38;5;124m\"\u001b[39m\u001b[38;5;124mlimit by setting the `recursion_limit` config key.\u001b[39m\u001b[38;5;124m\"\u001b[39m\n\u001b[0;32m   1175\u001b[0m     )\n\u001b[0;32m   1177\u001b[0m \u001b[38;5;66;03m# set final channel values as run output\u001b[39;00m\n\u001b[0;32m   1178\u001b[0m run_manager\u001b[38;5;241m.\u001b[39mon_chain_end(read_channels(channels, output_keys))\n",
      "\u001b[1;31mGraphRecursionError\u001b[0m: Recursion limit of 25 reachedwithout hitting a stop condition. You can increase the limit by setting the `recursion_limit` config key."
     ]
    }
   ],
   "source": [
    "response = agent_executor.invoke(\n",
    "    {\"messages\": [HumanMessage(content=\"whats the president of korea?\")]}\n",
    ")\n",
    "response[\"messages\"]"
   ]
  },
  {
   "cell_type": "code",
   "execution_count": 51,
   "metadata": {},
   "outputs": [
    {
     "name": "stdout",
     "output_type": "stream",
     "text": [
      "\u001b[36;1m\u001b[1;3m[0:tasks]\u001b[0m \u001b[1mStarting step 0 with 1 task:\n",
      "\u001b[0m- \u001b[32;1m\u001b[1;3m__start__\u001b[0m -> {'messages': [HumanMessage(content='whats the weather in sf?')]}\n",
      "\u001b[36;1m\u001b[1;3m[0:writes]\u001b[0m \u001b[1mFinished step 0 with writes to 1 channel:\n",
      "\u001b[0m- \u001b[33;1m\u001b[1;3mmessages\u001b[0m -> [HumanMessage(content='whats the weather in sf?')]\n",
      "\u001b[36;1m\u001b[1;3m[1:tasks]\u001b[0m \u001b[1mStarting step 1 with 1 task:\n",
      "\u001b[0m- \u001b[32;1m\u001b[1;3magent\u001b[0m -> {'is_last_step': False,\n",
      " 'messages': [HumanMessage(content='whats the weather in sf?', id='7430ce81-320a-44ff-886f-a606d30d4e41')]}\n",
      "{'agent': {'messages': [AIMessage(content='', additional_kwargs={'tool_calls': [{'id': 'call_fnoHQMdvKgIpfbBVCz5zf9jT', 'function': {'arguments': '{\"config\":{\"tags\":[\"weather\",\"San Francisco\"],\"run_name\":\"Weather in SF\"},\"args\":[\"weather in San Francisco\"]}', 'name': 'Search'}, 'type': 'function'}]}, response_metadata={'token_usage': {'completion_tokens': 32, 'prompt_tokens': 96, 'total_tokens': 128}, 'model_name': 'gpt-3.5-turbo-0125', 'system_fingerprint': None, 'finish_reason': 'tool_calls', 'logprobs': None}, id='run-db7e67f1-c061-43e0-b367-f776838d4602-0', tool_calls=[{'name': 'Search', 'args': {'config': {'tags': ['weather', 'San Francisco'], 'run_name': 'Weather in SF'}, 'args': ['weather in San Francisco']}, 'id': 'call_fnoHQMdvKgIpfbBVCz5zf9jT', 'type': 'tool_call'}], usage_metadata={'input_tokens': 96, 'output_tokens': 32, 'total_tokens': 128})]}}\n",
      "----\n",
      "\u001b[36;1m\u001b[1;3m[1:writes]\u001b[0m \u001b[1mFinished step 1 with writes to 1 channel:\n",
      "\u001b[0m- \u001b[33;1m\u001b[1;3mmessages\u001b[0m -> [AIMessage(content='', additional_kwargs={'tool_calls': [{'id': 'call_fnoHQMdvKgIpfbBVCz5zf9jT', 'function': {'arguments': '{\"config\":{\"tags\":[\"weather\",\"San Francisco\"],\"run_name\":\"Weather in SF\"},\"args\":[\"weather in San Francisco\"]}', 'name': 'Search'}, 'type': 'function'}]}, response_metadata={'token_usage': {'completion_tokens': 32, 'prompt_tokens': 96, 'total_tokens': 128}, 'model_name': 'gpt-3.5-turbo-0125', 'system_fingerprint': None, 'finish_reason': 'tool_calls', 'logprobs': None}, id='run-db7e67f1-c061-43e0-b367-f776838d4602-0', tool_calls=[{'name': 'Search', 'args': {'config': {'tags': ['weather', 'San Francisco'], 'run_name': 'Weather in SF'}, 'args': ['weather in San Francisco']}, 'id': 'call_fnoHQMdvKgIpfbBVCz5zf9jT', 'type': 'tool_call'}], usage_metadata={'input_tokens': 96, 'output_tokens': 32, 'total_tokens': 128})]\n",
      "\u001b[36;1m\u001b[1;3m[2:tasks]\u001b[0m \u001b[1mStarting step 2 with 1 task:\n",
      "\u001b[0m- \u001b[32;1m\u001b[1;3mtools\u001b[0m -> {'is_last_step': False,\n",
      " 'messages': [HumanMessage(content='whats the weather in sf?', id='7430ce81-320a-44ff-886f-a606d30d4e41'),\n",
      "              AIMessage(content='', additional_kwargs={'tool_calls': [{'id': 'call_fnoHQMdvKgIpfbBVCz5zf9jT', 'function': {'arguments': '{\"config\":{\"tags\":[\"weather\",\"San Francisco\"],\"run_name\":\"Weather in SF\"},\"args\":[\"weather in San Francisco\"]}', 'name': 'Search'}, 'type': 'function'}]}, response_metadata={'token_usage': {'completion_tokens': 32, 'prompt_tokens': 96, 'total_tokens': 128}, 'model_name': 'gpt-3.5-turbo-0125', 'system_fingerprint': None, 'finish_reason': 'tool_calls', 'logprobs': None}, id='run-db7e67f1-c061-43e0-b367-f776838d4602-0', tool_calls=[{'name': 'Search', 'args': {'config': {'tags': ['weather', 'San Francisco'], 'run_name': 'Weather in SF'}, 'args': ['weather in San Francisco']}, 'id': 'call_fnoHQMdvKgIpfbBVCz5zf9jT', 'type': 'tool_call'}], usage_metadata={'input_tokens': 96, 'output_tokens': 32, 'total_tokens': 128})]}\n",
      "{'tools': {'messages': [ToolMessage(content='Error: ToolException(\"Too many arguments to single-input tool Search.\\\\n                Consider using StructuredTool instead. Args: [{\\'tags\\': [\\'weather\\', \\'San Francisco\\'], \\'run_name\\': \\'Weather in SF\\'}, [\\'weather in San Francisco\\']]\")\\n Please fix your mistakes.', name='Search', tool_call_id='call_fnoHQMdvKgIpfbBVCz5zf9jT')]}}\n",
      "----\n",
      "\u001b[36;1m\u001b[1;3m[2:writes]\u001b[0m \u001b[1mFinished step 2 with writes to 1 channel:\n",
      "\u001b[0m- \u001b[33;1m\u001b[1;3mmessages\u001b[0m -> [ToolMessage(content='Error: ToolException(\"Too many arguments to single-input tool Search.\\\\n                Consider using StructuredTool instead. Args: [{\\'tags\\': [\\'weather\\', \\'San Francisco\\'], \\'run_name\\': \\'Weather in SF\\'}, [\\'weather in San Francisco\\']]\")\\n Please fix your mistakes.', name='Search', tool_call_id='call_fnoHQMdvKgIpfbBVCz5zf9jT')]\n",
      "\u001b[36;1m\u001b[1;3m[3:tasks]\u001b[0m \u001b[1mStarting step 3 with 1 task:\n",
      "\u001b[0m- \u001b[32;1m\u001b[1;3magent\u001b[0m -> {'is_last_step': False,\n",
      " 'messages': [HumanMessage(content='whats the weather in sf?', id='7430ce81-320a-44ff-886f-a606d30d4e41'),\n",
      "              AIMessage(content='', additional_kwargs={'tool_calls': [{'id': 'call_fnoHQMdvKgIpfbBVCz5zf9jT', 'function': {'arguments': '{\"config\":{\"tags\":[\"weather\",\"San Francisco\"],\"run_name\":\"Weather in SF\"},\"args\":[\"weather in San Francisco\"]}', 'name': 'Search'}, 'type': 'function'}]}, response_metadata={'token_usage': {'completion_tokens': 32, 'prompt_tokens': 96, 'total_tokens': 128}, 'model_name': 'gpt-3.5-turbo-0125', 'system_fingerprint': None, 'finish_reason': 'tool_calls', 'logprobs': None}, id='run-db7e67f1-c061-43e0-b367-f776838d4602-0', tool_calls=[{'name': 'Search', 'args': {'config': {'tags': ['weather', 'San Francisco'], 'run_name': 'Weather in SF'}, 'args': ['weather in San Francisco']}, 'id': 'call_fnoHQMdvKgIpfbBVCz5zf9jT', 'type': 'tool_call'}], usage_metadata={'input_tokens': 96, 'output_tokens': 32, 'total_tokens': 128}),\n",
      "              ToolMessage(content='Error: ToolException(\"Too many arguments to single-input tool Search.\\\\n                Consider using StructuredTool instead. Args: [{\\'tags\\': [\\'weather\\', \\'San Francisco\\'], \\'run_name\\': \\'Weather in SF\\'}, [\\'weather in San Francisco\\']]\")\\n Please fix your mistakes.', name='Search', id='95ad6e28-66f8-4c6d-b04f-0a6e21086a09', tool_call_id='call_fnoHQMdvKgIpfbBVCz5zf9jT')]}\n",
      "{'agent': {'messages': [AIMessage(content='', additional_kwargs={'tool_calls': [{'id': 'call_QIlyvjLlfSJ72hyqiDhrDHOs', 'function': {'arguments': '{\"config\":{\"tags\":[\"weather\",\"San Francisco\"],\"run_name\":\"Weather in SF\"}}', 'name': 'Search'}, 'type': 'function'}]}, response_metadata={'token_usage': {'completion_tokens': 25, 'prompt_tokens': 191, 'total_tokens': 216}, 'model_name': 'gpt-3.5-turbo-0125', 'system_fingerprint': None, 'finish_reason': 'tool_calls', 'logprobs': None}, id='run-eb88a20d-1b1f-49b5-a461-d4579c5f1a06-0', tool_calls=[{'name': 'Search', 'args': {'config': {'tags': ['weather', 'San Francisco'], 'run_name': 'Weather in SF'}}, 'id': 'call_QIlyvjLlfSJ72hyqiDhrDHOs', 'type': 'tool_call'}], usage_metadata={'input_tokens': 191, 'output_tokens': 25, 'total_tokens': 216})]}}\n",
      "----\n",
      "\u001b[36;1m\u001b[1;3m[3:writes]\u001b[0m \u001b[1mFinished step 3 with writes to 1 channel:\n",
      "\u001b[0m- \u001b[33;1m\u001b[1;3mmessages\u001b[0m -> [AIMessage(content='', additional_kwargs={'tool_calls': [{'id': 'call_QIlyvjLlfSJ72hyqiDhrDHOs', 'function': {'arguments': '{\"config\":{\"tags\":[\"weather\",\"San Francisco\"],\"run_name\":\"Weather in SF\"}}', 'name': 'Search'}, 'type': 'function'}]}, response_metadata={'token_usage': {'completion_tokens': 25, 'prompt_tokens': 191, 'total_tokens': 216}, 'model_name': 'gpt-3.5-turbo-0125', 'system_fingerprint': None, 'finish_reason': 'tool_calls', 'logprobs': None}, id='run-eb88a20d-1b1f-49b5-a461-d4579c5f1a06-0', tool_calls=[{'name': 'Search', 'args': {'config': {'tags': ['weather', 'San Francisco'], 'run_name': 'Weather in SF'}}, 'id': 'call_QIlyvjLlfSJ72hyqiDhrDHOs', 'type': 'tool_call'}], usage_metadata={'input_tokens': 191, 'output_tokens': 25, 'total_tokens': 216})]\n",
      "\u001b[36;1m\u001b[1;3m[4:tasks]\u001b[0m \u001b[1mStarting step 4 with 1 task:\n",
      "\u001b[0m- \u001b[32;1m\u001b[1;3mtools\u001b[0m -> {'is_last_step': False,\n",
      " 'messages': [HumanMessage(content='whats the weather in sf?', id='7430ce81-320a-44ff-886f-a606d30d4e41'),\n",
      "              AIMessage(content='', additional_kwargs={'tool_calls': [{'id': 'call_fnoHQMdvKgIpfbBVCz5zf9jT', 'function': {'arguments': '{\"config\":{\"tags\":[\"weather\",\"San Francisco\"],\"run_name\":\"Weather in SF\"},\"args\":[\"weather in San Francisco\"]}', 'name': 'Search'}, 'type': 'function'}]}, response_metadata={'token_usage': {'completion_tokens': 32, 'prompt_tokens': 96, 'total_tokens': 128}, 'model_name': 'gpt-3.5-turbo-0125', 'system_fingerprint': None, 'finish_reason': 'tool_calls', 'logprobs': None}, id='run-db7e67f1-c061-43e0-b367-f776838d4602-0', tool_calls=[{'name': 'Search', 'args': {'config': {'tags': ['weather', 'San Francisco'], 'run_name': 'Weather in SF'}, 'args': ['weather in San Francisco']}, 'id': 'call_fnoHQMdvKgIpfbBVCz5zf9jT', 'type': 'tool_call'}], usage_metadata={'input_tokens': 96, 'output_tokens': 32, 'total_tokens': 128}),\n",
      "              ToolMessage(content='Error: ToolException(\"Too many arguments to single-input tool Search.\\\\n                Consider using StructuredTool instead. Args: [{\\'tags\\': [\\'weather\\', \\'San Francisco\\'], \\'run_name\\': \\'Weather in SF\\'}, [\\'weather in San Francisco\\']]\")\\n Please fix your mistakes.', name='Search', id='95ad6e28-66f8-4c6d-b04f-0a6e21086a09', tool_call_id='call_fnoHQMdvKgIpfbBVCz5zf9jT'),\n",
      "              AIMessage(content='', additional_kwargs={'tool_calls': [{'id': 'call_QIlyvjLlfSJ72hyqiDhrDHOs', 'function': {'arguments': '{\"config\":{\"tags\":[\"weather\",\"San Francisco\"],\"run_name\":\"Weather in SF\"}}', 'name': 'Search'}, 'type': 'function'}]}, response_metadata={'token_usage': {'completion_tokens': 25, 'prompt_tokens': 191, 'total_tokens': 216}, 'model_name': 'gpt-3.5-turbo-0125', 'system_fingerprint': None, 'finish_reason': 'tool_calls', 'logprobs': None}, id='run-eb88a20d-1b1f-49b5-a461-d4579c5f1a06-0', tool_calls=[{'name': 'Search', 'args': {'config': {'tags': ['weather', 'San Francisco'], 'run_name': 'Weather in SF'}}, 'id': 'call_QIlyvjLlfSJ72hyqiDhrDHOs', 'type': 'tool_call'}], usage_metadata={'input_tokens': 191, 'output_tokens': 25, 'total_tokens': 216})]}\n",
      "{'tools': {'messages': [ToolMessage(content=\"Error: ValidationError(model='TavilyInput', errors=[{'loc': ('query',), 'msg': 'field required', 'type': 'value_error.missing'}])\\n Please fix your mistakes.\", name='Search', tool_call_id='call_QIlyvjLlfSJ72hyqiDhrDHOs')]}}\n",
      "----\n",
      "\u001b[36;1m\u001b[1;3m[4:writes]\u001b[0m \u001b[1mFinished step 4 with writes to 1 channel:\n",
      "\u001b[0m- \u001b[33;1m\u001b[1;3mmessages\u001b[0m -> [ToolMessage(content=\"Error: ValidationError(model='TavilyInput', errors=[{'loc': ('query',), 'msg': 'field required', 'type': 'value_error.missing'}])\\n Please fix your mistakes.\", name='Search', tool_call_id='call_QIlyvjLlfSJ72hyqiDhrDHOs')]\n",
      "\u001b[36;1m\u001b[1;3m[5:tasks]\u001b[0m \u001b[1mStarting step 5 with 1 task:\n",
      "\u001b[0m- \u001b[32;1m\u001b[1;3magent\u001b[0m -> {'is_last_step': False,\n",
      " 'messages': [HumanMessage(content='whats the weather in sf?', id='7430ce81-320a-44ff-886f-a606d30d4e41'),\n",
      "              AIMessage(content='', additional_kwargs={'tool_calls': [{'id': 'call_fnoHQMdvKgIpfbBVCz5zf9jT', 'function': {'arguments': '{\"config\":{\"tags\":[\"weather\",\"San Francisco\"],\"run_name\":\"Weather in SF\"},\"args\":[\"weather in San Francisco\"]}', 'name': 'Search'}, 'type': 'function'}]}, response_metadata={'token_usage': {'completion_tokens': 32, 'prompt_tokens': 96, 'total_tokens': 128}, 'model_name': 'gpt-3.5-turbo-0125', 'system_fingerprint': None, 'finish_reason': 'tool_calls', 'logprobs': None}, id='run-db7e67f1-c061-43e0-b367-f776838d4602-0', tool_calls=[{'name': 'Search', 'args': {'config': {'tags': ['weather', 'San Francisco'], 'run_name': 'Weather in SF'}, 'args': ['weather in San Francisco']}, 'id': 'call_fnoHQMdvKgIpfbBVCz5zf9jT', 'type': 'tool_call'}], usage_metadata={'input_tokens': 96, 'output_tokens': 32, 'total_tokens': 128}),\n",
      "              ToolMessage(content='Error: ToolException(\"Too many arguments to single-input tool Search.\\\\n                Consider using StructuredTool instead. Args: [{\\'tags\\': [\\'weather\\', \\'San Francisco\\'], \\'run_name\\': \\'Weather in SF\\'}, [\\'weather in San Francisco\\']]\")\\n Please fix your mistakes.', name='Search', id='95ad6e28-66f8-4c6d-b04f-0a6e21086a09', tool_call_id='call_fnoHQMdvKgIpfbBVCz5zf9jT'),\n",
      "              AIMessage(content='', additional_kwargs={'tool_calls': [{'id': 'call_QIlyvjLlfSJ72hyqiDhrDHOs', 'function': {'arguments': '{\"config\":{\"tags\":[\"weather\",\"San Francisco\"],\"run_name\":\"Weather in SF\"}}', 'name': 'Search'}, 'type': 'function'}]}, response_metadata={'token_usage': {'completion_tokens': 25, 'prompt_tokens': 191, 'total_tokens': 216}, 'model_name': 'gpt-3.5-turbo-0125', 'system_fingerprint': None, 'finish_reason': 'tool_calls', 'logprobs': None}, id='run-eb88a20d-1b1f-49b5-a461-d4579c5f1a06-0', tool_calls=[{'name': 'Search', 'args': {'config': {'tags': ['weather', 'San Francisco'], 'run_name': 'Weather in SF'}}, 'id': 'call_QIlyvjLlfSJ72hyqiDhrDHOs', 'type': 'tool_call'}], usage_metadata={'input_tokens': 191, 'output_tokens': 25, 'total_tokens': 216}),\n",
      "              ToolMessage(content=\"Error: ValidationError(model='TavilyInput', errors=[{'loc': ('query',), 'msg': 'field required', 'type': 'value_error.missing'}])\\n Please fix your mistakes.\", name='Search', id='3188bce3-5cfc-4b17-b5d0-5243bbeea8e1', tool_call_id='call_QIlyvjLlfSJ72hyqiDhrDHOs')]}\n",
      "{'agent': {'messages': [AIMessage(content='I apologize for the error. Let me try again to find the weather in San Francisco.', additional_kwargs={'tool_calls': [{'id': 'call_JbyIQo2y3Y2mRmqYZPaxiOOR', 'function': {'arguments': '{\"config\":{\"tags\":[\"weather\",\"San Francisco\"],\"run_name\":\"Weather in SF\"}}', 'name': 'Search'}, 'type': 'function'}]}, response_metadata={'token_usage': {'completion_tokens': 44, 'prompt_tokens': 264, 'total_tokens': 308}, 'model_name': 'gpt-3.5-turbo-0125', 'system_fingerprint': None, 'finish_reason': 'tool_calls', 'logprobs': None}, id='run-ef05b7ad-656e-4166-8abb-8279649820fd-0', tool_calls=[{'name': 'Search', 'args': {'config': {'tags': ['weather', 'San Francisco'], 'run_name': 'Weather in SF'}}, 'id': 'call_JbyIQo2y3Y2mRmqYZPaxiOOR', 'type': 'tool_call'}], usage_metadata={'input_tokens': 264, 'output_tokens': 44, 'total_tokens': 308})]}}\n",
      "----\n",
      "\u001b[36;1m\u001b[1;3m[5:writes]\u001b[0m \u001b[1mFinished step 5 with writes to 1 channel:\n",
      "\u001b[0m- \u001b[33;1m\u001b[1;3mmessages\u001b[0m -> [AIMessage(content='I apologize for the error. Let me try again to find the weather in San Francisco.', additional_kwargs={'tool_calls': [{'id': 'call_JbyIQo2y3Y2mRmqYZPaxiOOR', 'function': {'arguments': '{\"config\":{\"tags\":[\"weather\",\"San Francisco\"],\"run_name\":\"Weather in SF\"}}', 'name': 'Search'}, 'type': 'function'}]}, response_metadata={'token_usage': {'completion_tokens': 44, 'prompt_tokens': 264, 'total_tokens': 308}, 'model_name': 'gpt-3.5-turbo-0125', 'system_fingerprint': None, 'finish_reason': 'tool_calls', 'logprobs': None}, id='run-ef05b7ad-656e-4166-8abb-8279649820fd-0', tool_calls=[{'name': 'Search', 'args': {'config': {'tags': ['weather', 'San Francisco'], 'run_name': 'Weather in SF'}}, 'id': 'call_JbyIQo2y3Y2mRmqYZPaxiOOR', 'type': 'tool_call'}], usage_metadata={'input_tokens': 264, 'output_tokens': 44, 'total_tokens': 308})]\n",
      "\u001b[36;1m\u001b[1;3m[6:tasks]\u001b[0m \u001b[1mStarting step 6 with 1 task:\n",
      "\u001b[0m- \u001b[32;1m\u001b[1;3mtools\u001b[0m -> {'is_last_step': False,\n",
      " 'messages': [HumanMessage(content='whats the weather in sf?', id='7430ce81-320a-44ff-886f-a606d30d4e41'),\n",
      "              AIMessage(content='', additional_kwargs={'tool_calls': [{'id': 'call_fnoHQMdvKgIpfbBVCz5zf9jT', 'function': {'arguments': '{\"config\":{\"tags\":[\"weather\",\"San Francisco\"],\"run_name\":\"Weather in SF\"},\"args\":[\"weather in San Francisco\"]}', 'name': 'Search'}, 'type': 'function'}]}, response_metadata={'token_usage': {'completion_tokens': 32, 'prompt_tokens': 96, 'total_tokens': 128}, 'model_name': 'gpt-3.5-turbo-0125', 'system_fingerprint': None, 'finish_reason': 'tool_calls', 'logprobs': None}, id='run-db7e67f1-c061-43e0-b367-f776838d4602-0', tool_calls=[{'name': 'Search', 'args': {'config': {'tags': ['weather', 'San Francisco'], 'run_name': 'Weather in SF'}, 'args': ['weather in San Francisco']}, 'id': 'call_fnoHQMdvKgIpfbBVCz5zf9jT', 'type': 'tool_call'}], usage_metadata={'input_tokens': 96, 'output_tokens': 32, 'total_tokens': 128}),\n",
      "              ToolMessage(content='Error: ToolException(\"Too many arguments to single-input tool Search.\\\\n                Consider using StructuredTool instead. Args: [{\\'tags\\': [\\'weather\\', \\'San Francisco\\'], \\'run_name\\': \\'Weather in SF\\'}, [\\'weather in San Francisco\\']]\")\\n Please fix your mistakes.', name='Search', id='95ad6e28-66f8-4c6d-b04f-0a6e21086a09', tool_call_id='call_fnoHQMdvKgIpfbBVCz5zf9jT'),\n",
      "              AIMessage(content='', additional_kwargs={'tool_calls': [{'id': 'call_QIlyvjLlfSJ72hyqiDhrDHOs', 'function': {'arguments': '{\"config\":{\"tags\":[\"weather\",\"San Francisco\"],\"run_name\":\"Weather in SF\"}}', 'name': 'Search'}, 'type': 'function'}]}, response_metadata={'token_usage': {'completion_tokens': 25, 'prompt_tokens': 191, 'total_tokens': 216}, 'model_name': 'gpt-3.5-turbo-0125', 'system_fingerprint': None, 'finish_reason': 'tool_calls', 'logprobs': None}, id='run-eb88a20d-1b1f-49b5-a461-d4579c5f1a06-0', tool_calls=[{'name': 'Search', 'args': {'config': {'tags': ['weather', 'San Francisco'], 'run_name': 'Weather in SF'}}, 'id': 'call_QIlyvjLlfSJ72hyqiDhrDHOs', 'type': 'tool_call'}], usage_metadata={'input_tokens': 191, 'output_tokens': 25, 'total_tokens': 216}),\n",
      "              ToolMessage(content=\"Error: ValidationError(model='TavilyInput', errors=[{'loc': ('query',), 'msg': 'field required', 'type': 'value_error.missing'}])\\n Please fix your mistakes.\", name='Search', id='3188bce3-5cfc-4b17-b5d0-5243bbeea8e1', tool_call_id='call_QIlyvjLlfSJ72hyqiDhrDHOs'),\n",
      "              AIMessage(content='I apologize for the error. Let me try again to find the weather in San Francisco.', additional_kwargs={'tool_calls': [{'id': 'call_JbyIQo2y3Y2mRmqYZPaxiOOR', 'function': {'arguments': '{\"config\":{\"tags\":[\"weather\",\"San Francisco\"],\"run_name\":\"Weather in SF\"}}', 'name': 'Search'}, 'type': 'function'}]}, response_metadata={'token_usage': {'completion_tokens': 44, 'prompt_tokens': 264, 'total_tokens': 308}, 'model_name': 'gpt-3.5-turbo-0125', 'system_fingerprint': None, 'finish_reason': 'tool_calls', 'logprobs': None}, id='run-ef05b7ad-656e-4166-8abb-8279649820fd-0', tool_calls=[{'name': 'Search', 'args': {'config': {'tags': ['weather', 'San Francisco'], 'run_name': 'Weather in SF'}}, 'id': 'call_JbyIQo2y3Y2mRmqYZPaxiOOR', 'type': 'tool_call'}], usage_metadata={'input_tokens': 264, 'output_tokens': 44, 'total_tokens': 308})]}\n",
      "{'tools': {'messages': [ToolMessage(content=\"Error: ValidationError(model='TavilyInput', errors=[{'loc': ('query',), 'msg': 'field required', 'type': 'value_error.missing'}])\\n Please fix your mistakes.\", name='Search', tool_call_id='call_JbyIQo2y3Y2mRmqYZPaxiOOR')]}}\n",
      "----\n",
      "\u001b[36;1m\u001b[1;3m[6:writes]\u001b[0m \u001b[1mFinished step 6 with writes to 1 channel:\n",
      "\u001b[0m- \u001b[33;1m\u001b[1;3mmessages\u001b[0m -> [ToolMessage(content=\"Error: ValidationError(model='TavilyInput', errors=[{'loc': ('query',), 'msg': 'field required', 'type': 'value_error.missing'}])\\n Please fix your mistakes.\", name='Search', tool_call_id='call_JbyIQo2y3Y2mRmqYZPaxiOOR')]\n",
      "\u001b[36;1m\u001b[1;3m[7:tasks]\u001b[0m \u001b[1mStarting step 7 with 1 task:\n",
      "\u001b[0m- \u001b[32;1m\u001b[1;3magent\u001b[0m -> {'is_last_step': False,\n",
      " 'messages': [HumanMessage(content='whats the weather in sf?', id='7430ce81-320a-44ff-886f-a606d30d4e41'),\n",
      "              AIMessage(content='', additional_kwargs={'tool_calls': [{'id': 'call_fnoHQMdvKgIpfbBVCz5zf9jT', 'function': {'arguments': '{\"config\":{\"tags\":[\"weather\",\"San Francisco\"],\"run_name\":\"Weather in SF\"},\"args\":[\"weather in San Francisco\"]}', 'name': 'Search'}, 'type': 'function'}]}, response_metadata={'token_usage': {'completion_tokens': 32, 'prompt_tokens': 96, 'total_tokens': 128}, 'model_name': 'gpt-3.5-turbo-0125', 'system_fingerprint': None, 'finish_reason': 'tool_calls', 'logprobs': None}, id='run-db7e67f1-c061-43e0-b367-f776838d4602-0', tool_calls=[{'name': 'Search', 'args': {'config': {'tags': ['weather', 'San Francisco'], 'run_name': 'Weather in SF'}, 'args': ['weather in San Francisco']}, 'id': 'call_fnoHQMdvKgIpfbBVCz5zf9jT', 'type': 'tool_call'}], usage_metadata={'input_tokens': 96, 'output_tokens': 32, 'total_tokens': 128}),\n",
      "              ToolMessage(content='Error: ToolException(\"Too many arguments to single-input tool Search.\\\\n                Consider using StructuredTool instead. Args: [{\\'tags\\': [\\'weather\\', \\'San Francisco\\'], \\'run_name\\': \\'Weather in SF\\'}, [\\'weather in San Francisco\\']]\")\\n Please fix your mistakes.', name='Search', id='95ad6e28-66f8-4c6d-b04f-0a6e21086a09', tool_call_id='call_fnoHQMdvKgIpfbBVCz5zf9jT'),\n",
      "              AIMessage(content='', additional_kwargs={'tool_calls': [{'id': 'call_QIlyvjLlfSJ72hyqiDhrDHOs', 'function': {'arguments': '{\"config\":{\"tags\":[\"weather\",\"San Francisco\"],\"run_name\":\"Weather in SF\"}}', 'name': 'Search'}, 'type': 'function'}]}, response_metadata={'token_usage': {'completion_tokens': 25, 'prompt_tokens': 191, 'total_tokens': 216}, 'model_name': 'gpt-3.5-turbo-0125', 'system_fingerprint': None, 'finish_reason': 'tool_calls', 'logprobs': None}, id='run-eb88a20d-1b1f-49b5-a461-d4579c5f1a06-0', tool_calls=[{'name': 'Search', 'args': {'config': {'tags': ['weather', 'San Francisco'], 'run_name': 'Weather in SF'}}, 'id': 'call_QIlyvjLlfSJ72hyqiDhrDHOs', 'type': 'tool_call'}], usage_metadata={'input_tokens': 191, 'output_tokens': 25, 'total_tokens': 216}),\n",
      "              ToolMessage(content=\"Error: ValidationError(model='TavilyInput', errors=[{'loc': ('query',), 'msg': 'field required', 'type': 'value_error.missing'}])\\n Please fix your mistakes.\", name='Search', id='3188bce3-5cfc-4b17-b5d0-5243bbeea8e1', tool_call_id='call_QIlyvjLlfSJ72hyqiDhrDHOs'),\n",
      "              AIMessage(content='I apologize for the error. Let me try again to find the weather in San Francisco.', additional_kwargs={'tool_calls': [{'id': 'call_JbyIQo2y3Y2mRmqYZPaxiOOR', 'function': {'arguments': '{\"config\":{\"tags\":[\"weather\",\"San Francisco\"],\"run_name\":\"Weather in SF\"}}', 'name': 'Search'}, 'type': 'function'}]}, response_metadata={'token_usage': {'completion_tokens': 44, 'prompt_tokens': 264, 'total_tokens': 308}, 'model_name': 'gpt-3.5-turbo-0125', 'system_fingerprint': None, 'finish_reason': 'tool_calls', 'logprobs': None}, id='run-ef05b7ad-656e-4166-8abb-8279649820fd-0', tool_calls=[{'name': 'Search', 'args': {'config': {'tags': ['weather', 'San Francisco'], 'run_name': 'Weather in SF'}}, 'id': 'call_JbyIQo2y3Y2mRmqYZPaxiOOR', 'type': 'tool_call'}], usage_metadata={'input_tokens': 264, 'output_tokens': 44, 'total_tokens': 308}),\n",
      "              ToolMessage(content=\"Error: ValidationError(model='TavilyInput', errors=[{'loc': ('query',), 'msg': 'field required', 'type': 'value_error.missing'}])\\n Please fix your mistakes.\", name='Search', id='ad12d672-2516-40da-9280-a52789e4db7a', tool_call_id='call_JbyIQo2y3Y2mRmqYZPaxiOOR')]}\n",
      "{'agent': {'messages': [AIMessage(content='I apologize for the inconvenience. It seems there was an issue with retrieving the weather information for San Francisco. Let me try another approach.', additional_kwargs={'tool_calls': [{'id': 'call_ZlZ3NoXsLOpRVkZyeL3kCHug', 'function': {'arguments': '{\"config\":{\"tags\":[\"weather\",\"San Francisco\"]}}', 'name': 'Search'}, 'type': 'function'}]}, response_metadata={'token_usage': {'completion_tokens': 47, 'prompt_tokens': 359, 'total_tokens': 406}, 'model_name': 'gpt-3.5-turbo-0125', 'system_fingerprint': None, 'finish_reason': 'tool_calls', 'logprobs': None}, id='run-c4299796-f69b-4671-9db3-6783cc862e17-0', tool_calls=[{'name': 'Search', 'args': {'config': {'tags': ['weather', 'San Francisco']}}, 'id': 'call_ZlZ3NoXsLOpRVkZyeL3kCHug', 'type': 'tool_call'}], usage_metadata={'input_tokens': 359, 'output_tokens': 47, 'total_tokens': 406})]}}\n",
      "----\n",
      "\u001b[36;1m\u001b[1;3m[7:writes]\u001b[0m \u001b[1mFinished step 7 with writes to 1 channel:\n",
      "\u001b[0m- \u001b[33;1m\u001b[1;3mmessages\u001b[0m -> [AIMessage(content='I apologize for the inconvenience. It seems there was an issue with retrieving the weather information for San Francisco. Let me try another approach.', additional_kwargs={'tool_calls': [{'id': 'call_ZlZ3NoXsLOpRVkZyeL3kCHug', 'function': {'arguments': '{\"config\":{\"tags\":[\"weather\",\"San Francisco\"]}}', 'name': 'Search'}, 'type': 'function'}]}, response_metadata={'token_usage': {'completion_tokens': 47, 'prompt_tokens': 359, 'total_tokens': 406}, 'model_name': 'gpt-3.5-turbo-0125', 'system_fingerprint': None, 'finish_reason': 'tool_calls', 'logprobs': None}, id='run-c4299796-f69b-4671-9db3-6783cc862e17-0', tool_calls=[{'name': 'Search', 'args': {'config': {'tags': ['weather', 'San Francisco']}}, 'id': 'call_ZlZ3NoXsLOpRVkZyeL3kCHug', 'type': 'tool_call'}], usage_metadata={'input_tokens': 359, 'output_tokens': 47, 'total_tokens': 406})]\n",
      "\u001b[36;1m\u001b[1;3m[8:tasks]\u001b[0m \u001b[1mStarting step 8 with 1 task:\n",
      "\u001b[0m- \u001b[32;1m\u001b[1;3mtools\u001b[0m -> {'is_last_step': False,\n",
      " 'messages': [HumanMessage(content='whats the weather in sf?', id='7430ce81-320a-44ff-886f-a606d30d4e41'),\n",
      "              AIMessage(content='', additional_kwargs={'tool_calls': [{'id': 'call_fnoHQMdvKgIpfbBVCz5zf9jT', 'function': {'arguments': '{\"config\":{\"tags\":[\"weather\",\"San Francisco\"],\"run_name\":\"Weather in SF\"},\"args\":[\"weather in San Francisco\"]}', 'name': 'Search'}, 'type': 'function'}]}, response_metadata={'token_usage': {'completion_tokens': 32, 'prompt_tokens': 96, 'total_tokens': 128}, 'model_name': 'gpt-3.5-turbo-0125', 'system_fingerprint': None, 'finish_reason': 'tool_calls', 'logprobs': None}, id='run-db7e67f1-c061-43e0-b367-f776838d4602-0', tool_calls=[{'name': 'Search', 'args': {'config': {'tags': ['weather', 'San Francisco'], 'run_name': 'Weather in SF'}, 'args': ['weather in San Francisco']}, 'id': 'call_fnoHQMdvKgIpfbBVCz5zf9jT', 'type': 'tool_call'}], usage_metadata={'input_tokens': 96, 'output_tokens': 32, 'total_tokens': 128}),\n",
      "              ToolMessage(content='Error: ToolException(\"Too many arguments to single-input tool Search.\\\\n                Consider using StructuredTool instead. Args: [{\\'tags\\': [\\'weather\\', \\'San Francisco\\'], \\'run_name\\': \\'Weather in SF\\'}, [\\'weather in San Francisco\\']]\")\\n Please fix your mistakes.', name='Search', id='95ad6e28-66f8-4c6d-b04f-0a6e21086a09', tool_call_id='call_fnoHQMdvKgIpfbBVCz5zf9jT'),\n",
      "              AIMessage(content='', additional_kwargs={'tool_calls': [{'id': 'call_QIlyvjLlfSJ72hyqiDhrDHOs', 'function': {'arguments': '{\"config\":{\"tags\":[\"weather\",\"San Francisco\"],\"run_name\":\"Weather in SF\"}}', 'name': 'Search'}, 'type': 'function'}]}, response_metadata={'token_usage': {'completion_tokens': 25, 'prompt_tokens': 191, 'total_tokens': 216}, 'model_name': 'gpt-3.5-turbo-0125', 'system_fingerprint': None, 'finish_reason': 'tool_calls', 'logprobs': None}, id='run-eb88a20d-1b1f-49b5-a461-d4579c5f1a06-0', tool_calls=[{'name': 'Search', 'args': {'config': {'tags': ['weather', 'San Francisco'], 'run_name': 'Weather in SF'}}, 'id': 'call_QIlyvjLlfSJ72hyqiDhrDHOs', 'type': 'tool_call'}], usage_metadata={'input_tokens': 191, 'output_tokens': 25, 'total_tokens': 216}),\n",
      "              ToolMessage(content=\"Error: ValidationError(model='TavilyInput', errors=[{'loc': ('query',), 'msg': 'field required', 'type': 'value_error.missing'}])\\n Please fix your mistakes.\", name='Search', id='3188bce3-5cfc-4b17-b5d0-5243bbeea8e1', tool_call_id='call_QIlyvjLlfSJ72hyqiDhrDHOs'),\n",
      "              AIMessage(content='I apologize for the error. Let me try again to find the weather in San Francisco.', additional_kwargs={'tool_calls': [{'id': 'call_JbyIQo2y3Y2mRmqYZPaxiOOR', 'function': {'arguments': '{\"config\":{\"tags\":[\"weather\",\"San Francisco\"],\"run_name\":\"Weather in SF\"}}', 'name': 'Search'}, 'type': 'function'}]}, response_metadata={'token_usage': {'completion_tokens': 44, 'prompt_tokens': 264, 'total_tokens': 308}, 'model_name': 'gpt-3.5-turbo-0125', 'system_fingerprint': None, 'finish_reason': 'tool_calls', 'logprobs': None}, id='run-ef05b7ad-656e-4166-8abb-8279649820fd-0', tool_calls=[{'name': 'Search', 'args': {'config': {'tags': ['weather', 'San Francisco'], 'run_name': 'Weather in SF'}}, 'id': 'call_JbyIQo2y3Y2mRmqYZPaxiOOR', 'type': 'tool_call'}], usage_metadata={'input_tokens': 264, 'output_tokens': 44, 'total_tokens': 308}),\n",
      "              ToolMessage(content=\"Error: ValidationError(model='TavilyInput', errors=[{'loc': ('query',), 'msg': 'field required', 'type': 'value_error.missing'}])\\n Please fix your mistakes.\", name='Search', id='ad12d672-2516-40da-9280-a52789e4db7a', tool_call_id='call_JbyIQo2y3Y2mRmqYZPaxiOOR'),\n",
      "              AIMessage(content='I apologize for the inconvenience. It seems there was an issue with retrieving the weather information for San Francisco. Let me try another approach.', additional_kwargs={'tool_calls': [{'id': 'call_ZlZ3NoXsLOpRVkZyeL3kCHug', 'function': {'arguments': '{\"config\":{\"tags\":[\"weather\",\"San Francisco\"]}}', 'name': 'Search'}, 'type': 'function'}]}, response_metadata={'token_usage': {'completion_tokens': 47, 'prompt_tokens': 359, 'total_tokens': 406}, 'model_name': 'gpt-3.5-turbo-0125', 'system_fingerprint': None, 'finish_reason': 'tool_calls', 'logprobs': None}, id='run-c4299796-f69b-4671-9db3-6783cc862e17-0', tool_calls=[{'name': 'Search', 'args': {'config': {'tags': ['weather', 'San Francisco']}}, 'id': 'call_ZlZ3NoXsLOpRVkZyeL3kCHug', 'type': 'tool_call'}], usage_metadata={'input_tokens': 359, 'output_tokens': 47, 'total_tokens': 406})]}\n",
      "{'tools': {'messages': [ToolMessage(content=\"Error: ValidationError(model='TavilyInput', errors=[{'loc': ('query',), 'msg': 'field required', 'type': 'value_error.missing'}])\\n Please fix your mistakes.\", name='Search', tool_call_id='call_ZlZ3NoXsLOpRVkZyeL3kCHug')]}}\n",
      "----\n",
      "\u001b[36;1m\u001b[1;3m[8:writes]\u001b[0m \u001b[1mFinished step 8 with writes to 1 channel:\n",
      "\u001b[0m- \u001b[33;1m\u001b[1;3mmessages\u001b[0m -> [ToolMessage(content=\"Error: ValidationError(model='TavilyInput', errors=[{'loc': ('query',), 'msg': 'field required', 'type': 'value_error.missing'}])\\n Please fix your mistakes.\", name='Search', tool_call_id='call_ZlZ3NoXsLOpRVkZyeL3kCHug')]\n",
      "\u001b[36;1m\u001b[1;3m[9:tasks]\u001b[0m \u001b[1mStarting step 9 with 1 task:\n",
      "\u001b[0m- \u001b[32;1m\u001b[1;3magent\u001b[0m -> {'is_last_step': False,\n",
      " 'messages': [HumanMessage(content='whats the weather in sf?', id='7430ce81-320a-44ff-886f-a606d30d4e41'),\n",
      "              AIMessage(content='', additional_kwargs={'tool_calls': [{'id': 'call_fnoHQMdvKgIpfbBVCz5zf9jT', 'function': {'arguments': '{\"config\":{\"tags\":[\"weather\",\"San Francisco\"],\"run_name\":\"Weather in SF\"},\"args\":[\"weather in San Francisco\"]}', 'name': 'Search'}, 'type': 'function'}]}, response_metadata={'token_usage': {'completion_tokens': 32, 'prompt_tokens': 96, 'total_tokens': 128}, 'model_name': 'gpt-3.5-turbo-0125', 'system_fingerprint': None, 'finish_reason': 'tool_calls', 'logprobs': None}, id='run-db7e67f1-c061-43e0-b367-f776838d4602-0', tool_calls=[{'name': 'Search', 'args': {'config': {'tags': ['weather', 'San Francisco'], 'run_name': 'Weather in SF'}, 'args': ['weather in San Francisco']}, 'id': 'call_fnoHQMdvKgIpfbBVCz5zf9jT', 'type': 'tool_call'}], usage_metadata={'input_tokens': 96, 'output_tokens': 32, 'total_tokens': 128}),\n",
      "              ToolMessage(content='Error: ToolException(\"Too many arguments to single-input tool Search.\\\\n                Consider using StructuredTool instead. Args: [{\\'tags\\': [\\'weather\\', \\'San Francisco\\'], \\'run_name\\': \\'Weather in SF\\'}, [\\'weather in San Francisco\\']]\")\\n Please fix your mistakes.', name='Search', id='95ad6e28-66f8-4c6d-b04f-0a6e21086a09', tool_call_id='call_fnoHQMdvKgIpfbBVCz5zf9jT'),\n",
      "              AIMessage(content='', additional_kwargs={'tool_calls': [{'id': 'call_QIlyvjLlfSJ72hyqiDhrDHOs', 'function': {'arguments': '{\"config\":{\"tags\":[\"weather\",\"San Francisco\"],\"run_name\":\"Weather in SF\"}}', 'name': 'Search'}, 'type': 'function'}]}, response_metadata={'token_usage': {'completion_tokens': 25, 'prompt_tokens': 191, 'total_tokens': 216}, 'model_name': 'gpt-3.5-turbo-0125', 'system_fingerprint': None, 'finish_reason': 'tool_calls', 'logprobs': None}, id='run-eb88a20d-1b1f-49b5-a461-d4579c5f1a06-0', tool_calls=[{'name': 'Search', 'args': {'config': {'tags': ['weather', 'San Francisco'], 'run_name': 'Weather in SF'}}, 'id': 'call_QIlyvjLlfSJ72hyqiDhrDHOs', 'type': 'tool_call'}], usage_metadata={'input_tokens': 191, 'output_tokens': 25, 'total_tokens': 216}),\n",
      "              ToolMessage(content=\"Error: ValidationError(model='TavilyInput', errors=[{'loc': ('query',), 'msg': 'field required', 'type': 'value_error.missing'}])\\n Please fix your mistakes.\", name='Search', id='3188bce3-5cfc-4b17-b5d0-5243bbeea8e1', tool_call_id='call_QIlyvjLlfSJ72hyqiDhrDHOs'),\n",
      "              AIMessage(content='I apologize for the error. Let me try again to find the weather in San Francisco.', additional_kwargs={'tool_calls': [{'id': 'call_JbyIQo2y3Y2mRmqYZPaxiOOR', 'function': {'arguments': '{\"config\":{\"tags\":[\"weather\",\"San Francisco\"],\"run_name\":\"Weather in SF\"}}', 'name': 'Search'}, 'type': 'function'}]}, response_metadata={'token_usage': {'completion_tokens': 44, 'prompt_tokens': 264, 'total_tokens': 308}, 'model_name': 'gpt-3.5-turbo-0125', 'system_fingerprint': None, 'finish_reason': 'tool_calls', 'logprobs': None}, id='run-ef05b7ad-656e-4166-8abb-8279649820fd-0', tool_calls=[{'name': 'Search', 'args': {'config': {'tags': ['weather', 'San Francisco'], 'run_name': 'Weather in SF'}}, 'id': 'call_JbyIQo2y3Y2mRmqYZPaxiOOR', 'type': 'tool_call'}], usage_metadata={'input_tokens': 264, 'output_tokens': 44, 'total_tokens': 308}),\n",
      "              ToolMessage(content=\"Error: ValidationError(model='TavilyInput', errors=[{'loc': ('query',), 'msg': 'field required', 'type': 'value_error.missing'}])\\n Please fix your mistakes.\", name='Search', id='ad12d672-2516-40da-9280-a52789e4db7a', tool_call_id='call_JbyIQo2y3Y2mRmqYZPaxiOOR'),\n",
      "              AIMessage(content='I apologize for the inconvenience. It seems there was an issue with retrieving the weather information for San Francisco. Let me try another approach.', additional_kwargs={'tool_calls': [{'id': 'call_ZlZ3NoXsLOpRVkZyeL3kCHug', 'function': {'arguments': '{\"config\":{\"tags\":[\"weather\",\"San Francisco\"]}}', 'name': 'Search'}, 'type': 'function'}]}, response_metadata={'token_usage': {'completion_tokens': 47, 'prompt_tokens': 359, 'total_tokens': 406}, 'model_name': 'gpt-3.5-turbo-0125', 'system_fingerprint': None, 'finish_reason': 'tool_calls', 'logprobs': None}, id='run-c4299796-f69b-4671-9db3-6783cc862e17-0', tool_calls=[{'name': 'Search', 'args': {'config': {'tags': ['weather', 'San Francisco']}}, 'id': 'call_ZlZ3NoXsLOpRVkZyeL3kCHug', 'type': 'tool_call'}], usage_metadata={'input_tokens': 359, 'output_tokens': 47, 'total_tokens': 406}),\n",
      "              ToolMessage(content=\"Error: ValidationError(model='TavilyInput', errors=[{'loc': ('query',), 'msg': 'field required', 'type': 'value_error.missing'}])\\n Please fix your mistakes.\", name='Search', id='aefc421c-8625-4b1c-9fa5-611a3fbb8bf4', tool_call_id='call_ZlZ3NoXsLOpRVkZyeL3kCHug')]}\n",
      "{'agent': {'messages': [AIMessage(content='I apologize for the inconvenience. It seems there is an issue with retrieving the weather information for San Francisco. Let me try one more time to get the weather details.', additional_kwargs={'tool_calls': [{'id': 'call_6RQ0Qg1h2p6a2mHP6AMJpcKA', 'function': {'arguments': '{\"config\":{\"tags\":[\"weather\",\"San Francisco\"]}}', 'name': 'Search'}, 'type': 'function'}]}, response_metadata={'token_usage': {'completion_tokens': 53, 'prompt_tokens': 457, 'total_tokens': 510}, 'model_name': 'gpt-3.5-turbo-0125', 'system_fingerprint': None, 'finish_reason': 'tool_calls', 'logprobs': None}, id='run-ef5e37f2-c746-4b85-aa89-29638c82983a-0', tool_calls=[{'name': 'Search', 'args': {'config': {'tags': ['weather', 'San Francisco']}}, 'id': 'call_6RQ0Qg1h2p6a2mHP6AMJpcKA', 'type': 'tool_call'}], usage_metadata={'input_tokens': 457, 'output_tokens': 53, 'total_tokens': 510})]}}\n",
      "----\n",
      "\u001b[36;1m\u001b[1;3m[9:writes]\u001b[0m \u001b[1mFinished step 9 with writes to 1 channel:\n",
      "\u001b[0m- \u001b[33;1m\u001b[1;3mmessages\u001b[0m -> [AIMessage(content='I apologize for the inconvenience. It seems there is an issue with retrieving the weather information for San Francisco. Let me try one more time to get the weather details.', additional_kwargs={'tool_calls': [{'id': 'call_6RQ0Qg1h2p6a2mHP6AMJpcKA', 'function': {'arguments': '{\"config\":{\"tags\":[\"weather\",\"San Francisco\"]}}', 'name': 'Search'}, 'type': 'function'}]}, response_metadata={'token_usage': {'completion_tokens': 53, 'prompt_tokens': 457, 'total_tokens': 510}, 'model_name': 'gpt-3.5-turbo-0125', 'system_fingerprint': None, 'finish_reason': 'tool_calls', 'logprobs': None}, id='run-ef5e37f2-c746-4b85-aa89-29638c82983a-0', tool_calls=[{'name': 'Search', 'args': {'config': {'tags': ['weather', 'San Francisco']}}, 'id': 'call_6RQ0Qg1h2p6a2mHP6AMJpcKA', 'type': 'tool_call'}], usage_metadata={'input_tokens': 457, 'output_tokens': 53, 'total_tokens': 510})]\n",
      "\u001b[36;1m\u001b[1;3m[10:tasks]\u001b[0m \u001b[1mStarting step 10 with 1 task:\n",
      "\u001b[0m- \u001b[32;1m\u001b[1;3mtools\u001b[0m -> {'is_last_step': False,\n",
      " 'messages': [HumanMessage(content='whats the weather in sf?', id='7430ce81-320a-44ff-886f-a606d30d4e41'),\n",
      "              AIMessage(content='', additional_kwargs={'tool_calls': [{'id': 'call_fnoHQMdvKgIpfbBVCz5zf9jT', 'function': {'arguments': '{\"config\":{\"tags\":[\"weather\",\"San Francisco\"],\"run_name\":\"Weather in SF\"},\"args\":[\"weather in San Francisco\"]}', 'name': 'Search'}, 'type': 'function'}]}, response_metadata={'token_usage': {'completion_tokens': 32, 'prompt_tokens': 96, 'total_tokens': 128}, 'model_name': 'gpt-3.5-turbo-0125', 'system_fingerprint': None, 'finish_reason': 'tool_calls', 'logprobs': None}, id='run-db7e67f1-c061-43e0-b367-f776838d4602-0', tool_calls=[{'name': 'Search', 'args': {'config': {'tags': ['weather', 'San Francisco'], 'run_name': 'Weather in SF'}, 'args': ['weather in San Francisco']}, 'id': 'call_fnoHQMdvKgIpfbBVCz5zf9jT', 'type': 'tool_call'}], usage_metadata={'input_tokens': 96, 'output_tokens': 32, 'total_tokens': 128}),\n",
      "              ToolMessage(content='Error: ToolException(\"Too many arguments to single-input tool Search.\\\\n                Consider using StructuredTool instead. Args: [{\\'tags\\': [\\'weather\\', \\'San Francisco\\'], \\'run_name\\': \\'Weather in SF\\'}, [\\'weather in San Francisco\\']]\")\\n Please fix your mistakes.', name='Search', id='95ad6e28-66f8-4c6d-b04f-0a6e21086a09', tool_call_id='call_fnoHQMdvKgIpfbBVCz5zf9jT'),\n",
      "              AIMessage(content='', additional_kwargs={'tool_calls': [{'id': 'call_QIlyvjLlfSJ72hyqiDhrDHOs', 'function': {'arguments': '{\"config\":{\"tags\":[\"weather\",\"San Francisco\"],\"run_name\":\"Weather in SF\"}}', 'name': 'Search'}, 'type': 'function'}]}, response_metadata={'token_usage': {'completion_tokens': 25, 'prompt_tokens': 191, 'total_tokens': 216}, 'model_name': 'gpt-3.5-turbo-0125', 'system_fingerprint': None, 'finish_reason': 'tool_calls', 'logprobs': None}, id='run-eb88a20d-1b1f-49b5-a461-d4579c5f1a06-0', tool_calls=[{'name': 'Search', 'args': {'config': {'tags': ['weather', 'San Francisco'], 'run_name': 'Weather in SF'}}, 'id': 'call_QIlyvjLlfSJ72hyqiDhrDHOs', 'type': 'tool_call'}], usage_metadata={'input_tokens': 191, 'output_tokens': 25, 'total_tokens': 216}),\n",
      "              ToolMessage(content=\"Error: ValidationError(model='TavilyInput', errors=[{'loc': ('query',), 'msg': 'field required', 'type': 'value_error.missing'}])\\n Please fix your mistakes.\", name='Search', id='3188bce3-5cfc-4b17-b5d0-5243bbeea8e1', tool_call_id='call_QIlyvjLlfSJ72hyqiDhrDHOs'),\n",
      "              AIMessage(content='I apologize for the error. Let me try again to find the weather in San Francisco.', additional_kwargs={'tool_calls': [{'id': 'call_JbyIQo2y3Y2mRmqYZPaxiOOR', 'function': {'arguments': '{\"config\":{\"tags\":[\"weather\",\"San Francisco\"],\"run_name\":\"Weather in SF\"}}', 'name': 'Search'}, 'type': 'function'}]}, response_metadata={'token_usage': {'completion_tokens': 44, 'prompt_tokens': 264, 'total_tokens': 308}, 'model_name': 'gpt-3.5-turbo-0125', 'system_fingerprint': None, 'finish_reason': 'tool_calls', 'logprobs': None}, id='run-ef05b7ad-656e-4166-8abb-8279649820fd-0', tool_calls=[{'name': 'Search', 'args': {'config': {'tags': ['weather', 'San Francisco'], 'run_name': 'Weather in SF'}}, 'id': 'call_JbyIQo2y3Y2mRmqYZPaxiOOR', 'type': 'tool_call'}], usage_metadata={'input_tokens': 264, 'output_tokens': 44, 'total_tokens': 308}),\n",
      "              ToolMessage(content=\"Error: ValidationError(model='TavilyInput', errors=[{'loc': ('query',), 'msg': 'field required', 'type': 'value_error.missing'}])\\n Please fix your mistakes.\", name='Search', id='ad12d672-2516-40da-9280-a52789e4db7a', tool_call_id='call_JbyIQo2y3Y2mRmqYZPaxiOOR'),\n",
      "              AIMessage(content='I apologize for the inconvenience. It seems there was an issue with retrieving the weather information for San Francisco. Let me try another approach.', additional_kwargs={'tool_calls': [{'id': 'call_ZlZ3NoXsLOpRVkZyeL3kCHug', 'function': {'arguments': '{\"config\":{\"tags\":[\"weather\",\"San Francisco\"]}}', 'name': 'Search'}, 'type': 'function'}]}, response_metadata={'token_usage': {'completion_tokens': 47, 'prompt_tokens': 359, 'total_tokens': 406}, 'model_name': 'gpt-3.5-turbo-0125', 'system_fingerprint': None, 'finish_reason': 'tool_calls', 'logprobs': None}, id='run-c4299796-f69b-4671-9db3-6783cc862e17-0', tool_calls=[{'name': 'Search', 'args': {'config': {'tags': ['weather', 'San Francisco']}}, 'id': 'call_ZlZ3NoXsLOpRVkZyeL3kCHug', 'type': 'tool_call'}], usage_metadata={'input_tokens': 359, 'output_tokens': 47, 'total_tokens': 406}),\n",
      "              ToolMessage(content=\"Error: ValidationError(model='TavilyInput', errors=[{'loc': ('query',), 'msg': 'field required', 'type': 'value_error.missing'}])\\n Please fix your mistakes.\", name='Search', id='aefc421c-8625-4b1c-9fa5-611a3fbb8bf4', tool_call_id='call_ZlZ3NoXsLOpRVkZyeL3kCHug'),\n",
      "              AIMessage(content='I apologize for the inconvenience. It seems there is an issue with retrieving the weather information for San Francisco. Let me try one more time to get the weather details.', additional_kwargs={'tool_calls': [{'id': 'call_6RQ0Qg1h2p6a2mHP6AMJpcKA', 'function': {'arguments': '{\"config\":{\"tags\":[\"weather\",\"San Francisco\"]}}', 'name': 'Search'}, 'type': 'function'}]}, response_metadata={'token_usage': {'completion_tokens': 53, 'prompt_tokens': 457, 'total_tokens': 510}, 'model_name': 'gpt-3.5-turbo-0125', 'system_fingerprint': None, 'finish_reason': 'tool_calls', 'logprobs': None}, id='run-ef5e37f2-c746-4b85-aa89-29638c82983a-0', tool_calls=[{'name': 'Search', 'args': {'config': {'tags': ['weather', 'San Francisco']}}, 'id': 'call_6RQ0Qg1h2p6a2mHP6AMJpcKA', 'type': 'tool_call'}], usage_metadata={'input_tokens': 457, 'output_tokens': 53, 'total_tokens': 510})]}\n",
      "{'tools': {'messages': [ToolMessage(content=\"Error: ValidationError(model='TavilyInput', errors=[{'loc': ('query',), 'msg': 'field required', 'type': 'value_error.missing'}])\\n Please fix your mistakes.\", name='Search', tool_call_id='call_6RQ0Qg1h2p6a2mHP6AMJpcKA')]}}\n",
      "----\n",
      "\u001b[36;1m\u001b[1;3m[10:writes]\u001b[0m \u001b[1mFinished step 10 with writes to 1 channel:\n",
      "\u001b[0m- \u001b[33;1m\u001b[1;3mmessages\u001b[0m -> [ToolMessage(content=\"Error: ValidationError(model='TavilyInput', errors=[{'loc': ('query',), 'msg': 'field required', 'type': 'value_error.missing'}])\\n Please fix your mistakes.\", name='Search', tool_call_id='call_6RQ0Qg1h2p6a2mHP6AMJpcKA')]\n",
      "\u001b[36;1m\u001b[1;3m[11:tasks]\u001b[0m \u001b[1mStarting step 11 with 1 task:\n",
      "\u001b[0m- \u001b[32;1m\u001b[1;3magent\u001b[0m -> {'is_last_step': False,\n",
      " 'messages': [HumanMessage(content='whats the weather in sf?', id='7430ce81-320a-44ff-886f-a606d30d4e41'),\n",
      "              AIMessage(content='', additional_kwargs={'tool_calls': [{'id': 'call_fnoHQMdvKgIpfbBVCz5zf9jT', 'function': {'arguments': '{\"config\":{\"tags\":[\"weather\",\"San Francisco\"],\"run_name\":\"Weather in SF\"},\"args\":[\"weather in San Francisco\"]}', 'name': 'Search'}, 'type': 'function'}]}, response_metadata={'token_usage': {'completion_tokens': 32, 'prompt_tokens': 96, 'total_tokens': 128}, 'model_name': 'gpt-3.5-turbo-0125', 'system_fingerprint': None, 'finish_reason': 'tool_calls', 'logprobs': None}, id='run-db7e67f1-c061-43e0-b367-f776838d4602-0', tool_calls=[{'name': 'Search', 'args': {'config': {'tags': ['weather', 'San Francisco'], 'run_name': 'Weather in SF'}, 'args': ['weather in San Francisco']}, 'id': 'call_fnoHQMdvKgIpfbBVCz5zf9jT', 'type': 'tool_call'}], usage_metadata={'input_tokens': 96, 'output_tokens': 32, 'total_tokens': 128}),\n",
      "              ToolMessage(content='Error: ToolException(\"Too many arguments to single-input tool Search.\\\\n                Consider using StructuredTool instead. Args: [{\\'tags\\': [\\'weather\\', \\'San Francisco\\'], \\'run_name\\': \\'Weather in SF\\'}, [\\'weather in San Francisco\\']]\")\\n Please fix your mistakes.', name='Search', id='95ad6e28-66f8-4c6d-b04f-0a6e21086a09', tool_call_id='call_fnoHQMdvKgIpfbBVCz5zf9jT'),\n",
      "              AIMessage(content='', additional_kwargs={'tool_calls': [{'id': 'call_QIlyvjLlfSJ72hyqiDhrDHOs', 'function': {'arguments': '{\"config\":{\"tags\":[\"weather\",\"San Francisco\"],\"run_name\":\"Weather in SF\"}}', 'name': 'Search'}, 'type': 'function'}]}, response_metadata={'token_usage': {'completion_tokens': 25, 'prompt_tokens': 191, 'total_tokens': 216}, 'model_name': 'gpt-3.5-turbo-0125', 'system_fingerprint': None, 'finish_reason': 'tool_calls', 'logprobs': None}, id='run-eb88a20d-1b1f-49b5-a461-d4579c5f1a06-0', tool_calls=[{'name': 'Search', 'args': {'config': {'tags': ['weather', 'San Francisco'], 'run_name': 'Weather in SF'}}, 'id': 'call_QIlyvjLlfSJ72hyqiDhrDHOs', 'type': 'tool_call'}], usage_metadata={'input_tokens': 191, 'output_tokens': 25, 'total_tokens': 216}),\n",
      "              ToolMessage(content=\"Error: ValidationError(model='TavilyInput', errors=[{'loc': ('query',), 'msg': 'field required', 'type': 'value_error.missing'}])\\n Please fix your mistakes.\", name='Search', id='3188bce3-5cfc-4b17-b5d0-5243bbeea8e1', tool_call_id='call_QIlyvjLlfSJ72hyqiDhrDHOs'),\n",
      "              AIMessage(content='I apologize for the error. Let me try again to find the weather in San Francisco.', additional_kwargs={'tool_calls': [{'id': 'call_JbyIQo2y3Y2mRmqYZPaxiOOR', 'function': {'arguments': '{\"config\":{\"tags\":[\"weather\",\"San Francisco\"],\"run_name\":\"Weather in SF\"}}', 'name': 'Search'}, 'type': 'function'}]}, response_metadata={'token_usage': {'completion_tokens': 44, 'prompt_tokens': 264, 'total_tokens': 308}, 'model_name': 'gpt-3.5-turbo-0125', 'system_fingerprint': None, 'finish_reason': 'tool_calls', 'logprobs': None}, id='run-ef05b7ad-656e-4166-8abb-8279649820fd-0', tool_calls=[{'name': 'Search', 'args': {'config': {'tags': ['weather', 'San Francisco'], 'run_name': 'Weather in SF'}}, 'id': 'call_JbyIQo2y3Y2mRmqYZPaxiOOR', 'type': 'tool_call'}], usage_metadata={'input_tokens': 264, 'output_tokens': 44, 'total_tokens': 308}),\n",
      "              ToolMessage(content=\"Error: ValidationError(model='TavilyInput', errors=[{'loc': ('query',), 'msg': 'field required', 'type': 'value_error.missing'}])\\n Please fix your mistakes.\", name='Search', id='ad12d672-2516-40da-9280-a52789e4db7a', tool_call_id='call_JbyIQo2y3Y2mRmqYZPaxiOOR'),\n",
      "              AIMessage(content='I apologize for the inconvenience. It seems there was an issue with retrieving the weather information for San Francisco. Let me try another approach.', additional_kwargs={'tool_calls': [{'id': 'call_ZlZ3NoXsLOpRVkZyeL3kCHug', 'function': {'arguments': '{\"config\":{\"tags\":[\"weather\",\"San Francisco\"]}}', 'name': 'Search'}, 'type': 'function'}]}, response_metadata={'token_usage': {'completion_tokens': 47, 'prompt_tokens': 359, 'total_tokens': 406}, 'model_name': 'gpt-3.5-turbo-0125', 'system_fingerprint': None, 'finish_reason': 'tool_calls', 'logprobs': None}, id='run-c4299796-f69b-4671-9db3-6783cc862e17-0', tool_calls=[{'name': 'Search', 'args': {'config': {'tags': ['weather', 'San Francisco']}}, 'id': 'call_ZlZ3NoXsLOpRVkZyeL3kCHug', 'type': 'tool_call'}], usage_metadata={'input_tokens': 359, 'output_tokens': 47, 'total_tokens': 406}),\n",
      "              ToolMessage(content=\"Error: ValidationError(model='TavilyInput', errors=[{'loc': ('query',), 'msg': 'field required', 'type': 'value_error.missing'}])\\n Please fix your mistakes.\", name='Search', id='aefc421c-8625-4b1c-9fa5-611a3fbb8bf4', tool_call_id='call_ZlZ3NoXsLOpRVkZyeL3kCHug'),\n",
      "              AIMessage(content='I apologize for the inconvenience. It seems there is an issue with retrieving the weather information for San Francisco. Let me try one more time to get the weather details.', additional_kwargs={'tool_calls': [{'id': 'call_6RQ0Qg1h2p6a2mHP6AMJpcKA', 'function': {'arguments': '{\"config\":{\"tags\":[\"weather\",\"San Francisco\"]}}', 'name': 'Search'}, 'type': 'function'}]}, response_metadata={'token_usage': {'completion_tokens': 53, 'prompt_tokens': 457, 'total_tokens': 510}, 'model_name': 'gpt-3.5-turbo-0125', 'system_fingerprint': None, 'finish_reason': 'tool_calls', 'logprobs': None}, id='run-ef5e37f2-c746-4b85-aa89-29638c82983a-0', tool_calls=[{'name': 'Search', 'args': {'config': {'tags': ['weather', 'San Francisco']}}, 'id': 'call_6RQ0Qg1h2p6a2mHP6AMJpcKA', 'type': 'tool_call'}], usage_metadata={'input_tokens': 457, 'output_tokens': 53, 'total_tokens': 510}),\n",
      "              ToolMessage(content=\"Error: ValidationError(model='TavilyInput', errors=[{'loc': ('query',), 'msg': 'field required', 'type': 'value_error.missing'}])\\n Please fix your mistakes.\", name='Search', id='663374e0-ff40-442e-adda-5ecb42ff47fd', tool_call_id='call_6RQ0Qg1h2p6a2mHP6AMJpcKA')]}\n",
      "{'agent': {'messages': [AIMessage(content=\"I'm sorry, but I'm unable to retrieve the weather information for San Francisco at the moment.\", response_metadata={'token_usage': {'completion_tokens': 21, 'prompt_tokens': 561, 'total_tokens': 582}, 'model_name': 'gpt-3.5-turbo-0125', 'system_fingerprint': None, 'finish_reason': 'stop', 'logprobs': None}, id='run-bd73ecd7-42e8-4364-9768-a25d4fa9be1f-0', usage_metadata={'input_tokens': 561, 'output_tokens': 21, 'total_tokens': 582})]}}\n",
      "----\n",
      "\u001b[36;1m\u001b[1;3m[11:writes]\u001b[0m \u001b[1mFinished step 11 with writes to 1 channel:\n",
      "\u001b[0m- \u001b[33;1m\u001b[1;3mmessages\u001b[0m -> [AIMessage(content=\"I'm sorry, but I'm unable to retrieve the weather information for San Francisco at the moment.\", response_metadata={'token_usage': {'completion_tokens': 21, 'prompt_tokens': 561, 'total_tokens': 582}, 'model_name': 'gpt-3.5-turbo-0125', 'system_fingerprint': None, 'finish_reason': 'stop', 'logprobs': None}, id='run-bd73ecd7-42e8-4364-9768-a25d4fa9be1f-0', usage_metadata={'input_tokens': 561, 'output_tokens': 21, 'total_tokens': 582})]\n"
     ]
    }
   ],
   "source": [
    "for chunk in agent_executor.stream(\n",
    "    {\"messages\": [HumanMessage(content=\"whats the weather in sf?\")]}\n",
    "):\n",
    "    print(chunk)\n",
    "    print(\"----\")"
   ]
  },
  {
   "cell_type": "markdown",
   "metadata": {},
   "source": [
    "- 에러 발생 진행 x\n",
    "- https://github.com/langchain-ai/langgraph/issues/1069"
   ]
  }
 ],
 "metadata": {
  "kernelspec": {
   "display_name": "langchain",
   "language": "python",
   "name": "python3"
  },
  "language_info": {
   "codemirror_mode": {
    "name": "ipython",
    "version": 3
   },
   "file_extension": ".py",
   "mimetype": "text/x-python",
   "name": "python",
   "nbconvert_exporter": "python",
   "pygments_lexer": "ipython3",
   "version": "3.11.9"
  }
 },
 "nbformat": 4,
 "nbformat_minor": 2
}
